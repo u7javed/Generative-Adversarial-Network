{
 "metadata": {
  "language_info": {
   "codemirror_mode": {
    "name": "ipython",
    "version": 3
   },
   "file_extension": ".py",
   "mimetype": "text/x-python",
   "name": "python",
   "nbconvert_exporter": "python",
   "pygments_lexer": "ipython3",
   "version": "3.7.6-final"
  },
  "orig_nbformat": 2,
  "kernelspec": {
   "name": "python_defaultSpec_1598666770488",
   "display_name": "Python 3.7.6 64-bit ('base': conda)"
  }
 },
 "nbformat": 4,
 "nbformat_minor": 2,
 "cells": [
  {
   "cell_type": "code",
   "execution_count": 1,
   "metadata": {},
   "outputs": [],
   "source": [
    "import torch"
   ]
  },
  {
   "cell_type": "code",
   "execution_count": 2,
   "metadata": {
    "tags": []
   },
   "outputs": [
    {
     "output_type": "stream",
     "name": "stdout",
     "text": "Directory exists.\nEpoch 0,    Gen Loss: 18.4283,   Dis Loss: 6.0559\nTime Taken: 35.1219 seconds. Estimated 0.9756 hours remaining\nEpoch 1,    Gen Loss: 21.8777,   Dis Loss: 5.0081\nTime Taken: 19.8063 seconds. Estimated 0.5447 hours remaining\nEpoch 2,    Gen Loss: 19.5047,   Dis Loss: 6.0091\nTime Taken: 18.1011 seconds. Estimated 0.4928 hours remaining\nEpoch 3,    Gen Loss: 20.1649,   Dis Loss: 5.8615\nTime Taken: 18.0106 seconds. Estimated 0.4853 hours remaining\nEpoch 4,    Gen Loss: 19.1771,   Dis Loss: 6.5022\nTime Taken: 18.1993 seconds. Estimated 0.4853 hours remaining\nEpoch 5,    Gen Loss: 23.7430,   Dis Loss: 4.9128\nTime Taken: 17.9300 seconds. Estimated 0.4732 hours remaining\nEpoch 6,    Gen Loss: 37.4097,   Dis Loss: 2.4199\nTime Taken: 18.1891 seconds. Estimated 0.4749 hours remaining\nEpoch 7,    Gen Loss: 29.6022,   Dis Loss: 4.1569\nTime Taken: 18.2151 seconds. Estimated 0.4706 hours remaining\nEpoch 8,    Gen Loss: 21.1056,   Dis Loss: 6.2405\nTime Taken: 17.8310 seconds. Estimated 0.4557 hours remaining\nEpoch 9,    Gen Loss: 19.3177,   Dis Loss: 6.7460\nTime Taken: 17.9670 seconds. Estimated 0.4542 hours remaining\nEpoch 10,    Gen Loss: 19.0425,   Dis Loss: 6.9143\nTime Taken: 18.4677 seconds. Estimated 0.4617 hours remaining\nEpoch 11,    Gen Loss: 19.3266,   Dis Loss: 6.7963\nTime Taken: 17.9506 seconds. Estimated 0.4438 hours remaining\nEpoch 12,    Gen Loss: 20.5261,   Dis Loss: 6.4461\nTime Taken: 17.8000 seconds. Estimated 0.4351 hours remaining\nEpoch 13,    Gen Loss: 19.7855,   Dis Loss: 6.6524\nTime Taken: 18.2871 seconds. Estimated 0.4419 hours remaining\nEpoch 14,    Gen Loss: 18.9970,   Dis Loss: 7.0285\nTime Taken: 18.3231 seconds. Estimated 0.4377 hours remaining\nEpoch 15,    Gen Loss: 18.5064,   Dis Loss: 7.1954\nTime Taken: 17.9600 seconds. Estimated 0.4241 hours remaining\nEpoch 16,    Gen Loss: 18.5767,   Dis Loss: 7.1208\nTime Taken: 18.1671 seconds. Estimated 0.4239 hours remaining\nEpoch 17,    Gen Loss: 19.0265,   Dis Loss: 7.2087\nTime Taken: 18.0421 seconds. Estimated 0.4160 hours remaining\nEpoch 18,    Gen Loss: 18.1063,   Dis Loss: 7.3077\nTime Taken: 18.2571 seconds. Estimated 0.4159 hours remaining\nEpoch 19,    Gen Loss: 18.3015,   Dis Loss: 7.3449\nTime Taken: 17.8200 seconds. Estimated 0.4010 hours remaining\nEpoch 20,    Gen Loss: 18.3969,   Dis Loss: 7.3475\nTime Taken: 18.0641 seconds. Estimated 0.4014 hours remaining\nEpoch 21,    Gen Loss: 17.9271,   Dis Loss: 7.5221\nTime Taken: 17.9835 seconds. Estimated 0.3946 hours remaining\nEpoch 22,    Gen Loss: 18.4552,   Dis Loss: 7.4867\nTime Taken: 18.3179 seconds. Estimated 0.3969 hours remaining\nEpoch 23,    Gen Loss: 20.3043,   Dis Loss: 6.7213\nTime Taken: 18.3387 seconds. Estimated 0.3922 hours remaining\nEpoch 24,    Gen Loss: 20.8731,   Dis Loss: 6.5837\nTime Taken: 17.8830 seconds. Estimated 0.3775 hours remaining\nEpoch 25,    Gen Loss: 18.8234,   Dis Loss: 7.2812\nTime Taken: 17.9540 seconds. Estimated 0.3740 hours remaining\nEpoch 26,    Gen Loss: 18.0737,   Dis Loss: 7.4504\nTime Taken: 18.3912 seconds. Estimated 0.3780 hours remaining\nEpoch 27,    Gen Loss: 18.0036,   Dis Loss: 7.5173\nTime Taken: 17.8220 seconds. Estimated 0.3614 hours remaining\nEpoch 28,    Gen Loss: 17.8268,   Dis Loss: 7.5162\nTime Taken: 18.0251 seconds. Estimated 0.3605 hours remaining\nEpoch 29,    Gen Loss: 18.3439,   Dis Loss: 7.5160\nTime Taken: 18.0381 seconds. Estimated 0.3558 hours remaining\nEpoch 30,    Gen Loss: 17.5339,   Dis Loss: 7.7001\nTime Taken: 18.5352 seconds. Estimated 0.3604 hours remaining\nEpoch 31,    Gen Loss: 17.2500,   Dis Loss: 7.8311\nTime Taken: 17.9650 seconds. Estimated 0.3443 hours remaining\nEpoch 32,    Gen Loss: 19.0167,   Dis Loss: 7.2087\nTime Taken: 17.7880 seconds. Estimated 0.3360 hours remaining\nEpoch 33,    Gen Loss: 17.9306,   Dis Loss: 7.4807\nTime Taken: 18.3496 seconds. Estimated 0.3415 hours remaining\nEpoch 34,    Gen Loss: 17.3283,   Dis Loss: 7.6844\nTime Taken: 18.1701 seconds. Estimated 0.3331 hours remaining\nEpoch 35,    Gen Loss: 17.1194,   Dis Loss: 7.8375\nTime Taken: 17.9260 seconds. Estimated 0.3237 hours remaining\nEpoch 36,    Gen Loss: 18.1666,   Dis Loss: 7.5082\nTime Taken: 18.2536 seconds. Estimated 0.3245 hours remaining\nEpoch 37,    Gen Loss: 17.1338,   Dis Loss: 7.7837\nTime Taken: 18.9946 seconds. Estimated 0.3324 hours remaining\nEpoch 38,    Gen Loss: 17.0821,   Dis Loss: 7.7659\nTime Taken: 18.2384 seconds. Estimated 0.3141 hours remaining\nEpoch 39,    Gen Loss: 17.4692,   Dis Loss: 7.6764\nTime Taken: 20.2421 seconds. Estimated 0.3430 hours remaining\nEpoch 40,    Gen Loss: 17.4222,   Dis Loss: 7.7965\nTime Taken: 17.6192 seconds. Estimated 0.2937 hours remaining\nEpoch 41,    Gen Loss: 17.0110,   Dis Loss: 7.7430\nTime Taken: 16.9868 seconds. Estimated 0.2784 hours remaining\nEpoch 42,    Gen Loss: 17.0763,   Dis Loss: 7.8398\nTime Taken: 18.1647 seconds. Estimated 0.2927 hours remaining\nEpoch 43,    Gen Loss: 17.6708,   Dis Loss: 7.7373\nTime Taken: 19.0577 seconds. Estimated 0.3017 hours remaining\nEpoch 44,    Gen Loss: 16.4254,   Dis Loss: 8.0259\nTime Taken: 18.9049 seconds. Estimated 0.2941 hours remaining\nEpoch 45,    Gen Loss: 18.8238,   Dis Loss: 7.3228\nTime Taken: 18.3321 seconds. Estimated 0.2801 hours remaining\nEpoch 46,    Gen Loss: 16.8451,   Dis Loss: 7.8944\nTime Taken: 18.4788 seconds. Estimated 0.2772 hours remaining\nEpoch 47,    Gen Loss: 16.4064,   Dis Loss: 8.1069\nTime Taken: 18.2991 seconds. Estimated 0.2694 hours remaining\nEpoch 48,    Gen Loss: 16.2894,   Dis Loss: 8.1519\nTime Taken: 18.3868 seconds. Estimated 0.2656 hours remaining\nEpoch 49,    Gen Loss: 16.1658,   Dis Loss: 8.1049\nTime Taken: 21.0959 seconds. Estimated 0.2989 hours remaining\nEpoch 50,    Gen Loss: 16.6925,   Dis Loss: 7.9122\nTime Taken: 20.1476 seconds. Estimated 0.2798 hours remaining\nEpoch 51,    Gen Loss: 16.9678,   Dis Loss: 8.0156\nTime Taken: 19.3820 seconds. Estimated 0.2638 hours remaining\nEpoch 52,    Gen Loss: 17.1013,   Dis Loss: 7.8545\nTime Taken: 19.4375 seconds. Estimated 0.2592 hours remaining\nEpoch 53,    Gen Loss: 16.5737,   Dis Loss: 7.9164\nTime Taken: 18.2260 seconds. Estimated 0.2380 hours remaining\nEpoch 54,    Gen Loss: 16.4688,   Dis Loss: 8.1128\nTime Taken: 20.2284 seconds. Estimated 0.2585 hours remaining\nEpoch 55,    Gen Loss: 17.0293,   Dis Loss: 7.8046\nTime Taken: 20.7424 seconds. Estimated 0.2593 hours remaining\nEpoch 56,    Gen Loss: 16.5736,   Dis Loss: 8.0542\nTime Taken: 19.8892 seconds. Estimated 0.2431 hours remaining\nEpoch 57,    Gen Loss: 15.8367,   Dis Loss: 8.1444\nTime Taken: 17.4227 seconds. Estimated 0.2081 hours remaining\nEpoch 58,    Gen Loss: 16.2478,   Dis Loss: 8.1959\nTime Taken: 18.0865 seconds. Estimated 0.2110 hours remaining\nEpoch 59,    Gen Loss: 17.0502,   Dis Loss: 7.8432\nTime Taken: 17.7282 seconds. Estimated 0.2019 hours remaining\nEpoch 60,    Gen Loss: 15.9187,   Dis Loss: 8.1849\nTime Taken: 17.6997 seconds. Estimated 0.1967 hours remaining\nEpoch 61,    Gen Loss: 16.0638,   Dis Loss: 8.1686\nTime Taken: 19.0642 seconds. Estimated 0.2065 hours remaining\nEpoch 62,    Gen Loss: 16.3227,   Dis Loss: 8.0793\nTime Taken: 17.9912 seconds. Estimated 0.1899 hours remaining\nEpoch 63,    Gen Loss: 16.2518,   Dis Loss: 8.0751\nTime Taken: 19.7592 seconds. Estimated 0.2031 hours remaining\nEpoch 64,    Gen Loss: 17.3748,   Dis Loss: 7.9082\nTime Taken: 18.7421 seconds. Estimated 0.1874 hours remaining\nEpoch 65,    Gen Loss: 16.6748,   Dis Loss: 7.9894\nTime Taken: 17.7876 seconds. Estimated 0.1729 hours remaining\nEpoch 66,    Gen Loss: 16.3380,   Dis Loss: 8.0867\nTime Taken: 18.4573 seconds. Estimated 0.1743 hours remaining\nEpoch 67,    Gen Loss: 16.8940,   Dis Loss: 7.8247\nTime Taken: 19.0224 seconds. Estimated 0.1744 hours remaining\nEpoch 68,    Gen Loss: 16.1587,   Dis Loss: 8.1686\nTime Taken: 18.5953 seconds. Estimated 0.1653 hours remaining\nEpoch 69,    Gen Loss: 16.6194,   Dis Loss: 7.9997\nTime Taken: 18.7849 seconds. Estimated 0.1618 hours remaining\nEpoch 70,    Gen Loss: 16.2677,   Dis Loss: 8.0560\nTime Taken: 18.3227 seconds. Estimated 0.1527 hours remaining\nEpoch 71,    Gen Loss: 16.1981,   Dis Loss: 8.2747\nTime Taken: 18.1035 seconds. Estimated 0.1458 hours remaining\nEpoch 72,    Gen Loss: 16.9483,   Dis Loss: 7.9964\nTime Taken: 17.6911 seconds. Estimated 0.1376 hours remaining\nEpoch 73,    Gen Loss: 16.1797,   Dis Loss: 8.1289\nTime Taken: 17.8691 seconds. Estimated 0.1340 hours remaining\nEpoch 74,    Gen Loss: 16.1101,   Dis Loss: 8.1654\nTime Taken: 18.2566 seconds. Estimated 0.1319 hours remaining\nEpoch 75,    Gen Loss: 17.1053,   Dis Loss: 8.0702\nTime Taken: 18.0033 seconds. Estimated 0.1250 hours remaining\nEpoch 76,    Gen Loss: 16.9483,   Dis Loss: 7.8430\nTime Taken: 18.0799 seconds. Estimated 0.1205 hours remaining\nEpoch 77,    Gen Loss: 15.8108,   Dis Loss: 8.1882\nTime Taken: 18.1489 seconds. Estimated 0.1160 hours remaining\nEpoch 78,    Gen Loss: 16.8986,   Dis Loss: 8.0574\nTime Taken: 18.3154 seconds. Estimated 0.1119 hours remaining\nEpoch 79,    Gen Loss: 15.9910,   Dis Loss: 8.2637\nTime Taken: 18.0332 seconds. Estimated 0.1052 hours remaining\nEpoch 80,    Gen Loss: 15.8044,   Dis Loss: 8.3202\nTime Taken: 18.3226 seconds. Estimated 0.1018 hours remaining\nEpoch 81,    Gen Loss: 17.0711,   Dis Loss: 7.8957\nTime Taken: 17.9242 seconds. Estimated 0.0946 hours remaining\nEpoch 82,    Gen Loss: 17.4885,   Dis Loss: 7.7086\nTime Taken: 18.1932 seconds. Estimated 0.0910 hours remaining\nEpoch 83,    Gen Loss: 15.5278,   Dis Loss: 8.3228\nTime Taken: 18.1276 seconds. Estimated 0.0856 hours remaining\nEpoch 84,    Gen Loss: 15.4630,   Dis Loss: 8.4034\nTime Taken: 18.2630 seconds. Estimated 0.0812 hours remaining\nEpoch 85,    Gen Loss: 15.6523,   Dis Loss: 8.2589\nTime Taken: 18.0806 seconds. Estimated 0.0753 hours remaining\nEpoch 86,    Gen Loss: 15.7316,   Dis Loss: 8.3198\nTime Taken: 18.7664 seconds. Estimated 0.0730 hours remaining\nEpoch 87,    Gen Loss: 15.8489,   Dis Loss: 8.2813\nTime Taken: 18.3955 seconds. Estimated 0.0664 hours remaining\nEpoch 88,    Gen Loss: 15.6001,   Dis Loss: 8.3191\nTime Taken: 18.1782 seconds. Estimated 0.0606 hours remaining\nEpoch 89,    Gen Loss: 15.4901,   Dis Loss: 8.3855\nTime Taken: 18.6709 seconds. Estimated 0.0570 hours remaining\nEpoch 90,    Gen Loss: 15.4189,   Dis Loss: 8.3856\nTime Taken: 19.4654 seconds. Estimated 0.0541 hours remaining\nEpoch 91,    Gen Loss: 15.6896,   Dis Loss: 8.3415\nTime Taken: 18.2692 seconds. Estimated 0.0457 hours remaining\nEpoch 92,    Gen Loss: 15.4237,   Dis Loss: 8.4066\nTime Taken: 17.9634 seconds. Estimated 0.0399 hours remaining\nEpoch 93,    Gen Loss: 15.6280,   Dis Loss: 8.3685\nTime Taken: 18.6106 seconds. Estimated 0.0362 hours remaining\nEpoch 94,    Gen Loss: 15.5476,   Dis Loss: 8.4273\nTime Taken: 18.0998 seconds. Estimated 0.0302 hours remaining\nEpoch 95,    Gen Loss: 15.3218,   Dis Loss: 8.4861\nTime Taken: 18.3774 seconds. Estimated 0.0255 hours remaining\nEpoch 96,    Gen Loss: 15.7420,   Dis Loss: 8.3490\nTime Taken: 18.3064 seconds. Estimated 0.0203 hours remaining\nEpoch 97,    Gen Loss: 15.5699,   Dis Loss: 8.3037\nTime Taken: 18.6707 seconds. Estimated 0.0156 hours remaining\nEpoch 98,    Gen Loss: 15.3179,   Dis Loss: 8.4889\nTime Taken: 19.3525 seconds. Estimated 0.0108 hours remaining\nEpoch 99,    Gen Loss: 15.2951,   Dis Loss: 8.4706\nTime Taken: 18.6214 seconds. Estimated 0.0052 hours remaining\nTraining Finished. Took 1875.5646 seconds or 0.5210 hours to complete.\n"
    }
   ],
   "source": [
    "#define dataset and hyperparemeters\n",
    "data_directory = 'data'\n",
    "saved_image_directory = 'data/saved_images'\n",
    "saved_model_directory = 'saved_models'\n",
    "batch_size = 64\n",
    "device = 'cuda' if torch.cuda.is_available() else 'cpu'\n",
    "num_workers = 2\n",
    "epochs = 100\n",
    "\n",
    "!python train.py --data_directory=$data_directory --saved_image_directory=$saved_image_directory --saved_model_directory=$saved_model_directory --batch_size=$batch_size --device=$device --num_workers=$num_workers --epochs=$epochs"
   ]
  },
  {
   "cell_type": "code",
   "execution_count": null,
   "metadata": {},
   "outputs": [],
   "source": []
  }
 ]
}